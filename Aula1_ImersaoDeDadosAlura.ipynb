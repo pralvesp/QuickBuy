{
  "nbformat": 4,
  "nbformat_minor": 0,
  "metadata": {
    "colab": {
      "name": "Aula1-ImersaoDeDadosAlura.ipynb",
      "provenance": [],
      "collapsed_sections": [],
      "authorship_tag": "ABX9TyN8u3pyJfZjnXykt9G2Cv2g",
      "include_colab_link": true
    },
    "kernelspec": {
      "name": "python3",
      "display_name": "Python 3"
    },
    "language_info": {
      "name": "python"
    }
  },
  "cells": [
    {
      "cell_type": "markdown",
      "metadata": {
        "id": "view-in-github",
        "colab_type": "text"
      },
      "source": [
        "<a href=\"https://colab.research.google.com/github/pralvesp/QuickBuy/blob/master/Aula1_ImersaoDeDadosAlura.ipynb\" target=\"_parent\"><img src=\"https://colab.research.google.com/assets/colab-badge.svg\" alt=\"Open In Colab\"/></a>"
      ]
    },
    {
      "cell_type": "code",
      "metadata": {
        "colab": {
          "base_uri": "https://localhost:8080/",
          "height": 319
        },
        "id": "r9VnikmQjkNA",
        "outputId": "21f94192-1418-4a22-9345-890a295b278c"
      },
      "source": [
        "import pandas as pd\n",
        "\n",
        "url_dados = 'https://github.com/alura-cursos/imersaodados3/blob/main/dados/dados_experimentos.zip?raw=true'\n",
        "\n",
        "dados = pd.read_csv(url_dados, compression ='zip')\n",
        "dados\n",
        "dados.shape\n",
        "dados['tratamento']\n",
        "dados['tratamento'].unique()\n",
        "dados['tempo'].unique()\n",
        "dados['dose'].unique()\n",
        "dados['droga'].unique()\n",
        "dados['g-0'].unique()\n",
        "dados['tratamento'].value_counts()\n",
        "dados['dose'].value_counts()\n",
        "dados['tratamento'].value_counts(normalize=True)\n",
        "dados['dose'].value_counts(normalize=True)\n",
        "dados['tratamento'].value_counts().plot.pie()\n",
        "dados['tempo'].value_counts().plot.pie()\n",
        "dados['tempo'].value_counts().plot.bar()\n",
        "dados.filtrados = dados[dados['g-0'] > 0]\n",
        "dados.filtrados.head()\n",
        "dados.head()\n",
        "dados.shape\n",
        "\n",
        "\n"
      ],
      "execution_count": 8,
      "outputs": [
        {
          "output_type": "stream",
          "text": [
            "/usr/local/lib/python3.7/dist-packages/ipykernel_launcher.py:21: UserWarning: Pandas doesn't allow columns to be created via a new attribute name - see https://pandas.pydata.org/pandas-docs/stable/indexing.html#attribute-access\n"
          ],
          "name": "stderr"
        },
        {
          "output_type": "execute_result",
          "data": {
            "text/plain": [
              "(23814, 877)"
            ]
          },
          "metadata": {
            "tags": []
          },
          "execution_count": 8
        },
        {
          "output_type": "display_data",
          "data": {
            "image/png": "[encoded data removed]",
            "text/plain": [
              "<Figure size 432x288 with 1 Axes>"
            ]
          },
          "metadata": {
            "tags": [],
            "needs_background": "light"
          }
        }
      ]
    }
  ]
}