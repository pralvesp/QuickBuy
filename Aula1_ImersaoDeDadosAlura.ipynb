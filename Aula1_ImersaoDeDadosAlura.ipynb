{
  "nbformat": 4,
  "nbformat_minor": 0,
  "metadata": {
    "colab": {
      "name": "Aula1-ImersaoDeDadosAlura.ipynb",
      "provenance": [],
      "collapsed_sections": [],
      "authorship_tag": "ABX9TyOHI3X+y4SfX7KrY/xnBnSB",
      "include_colab_link": true
    },
    "kernelspec": {
      "name": "python3",
      "display_name": "Python 3"
    },
    "language_info": {
      "name": "python"
    }
  },
  "cells": [
    {
      "cell_type": "markdown",
      "metadata": {
        "id": "view-in-github",
        "colab_type": "text"
      },
      "source": [
        "<a href=\"https://colab.research.google.com/github/pralvesp/QuickBuy/blob/master/Aula1_ImersaoDeDadosAlura.ipynb\" target=\"_parent\"><img src=\"https://colab.research.google.com/assets/colab-badge.svg\" alt=\"Open In Colab\"/></a>"
      ]
    },
    {
      "cell_type": "code",
      "metadata": {
        "id": "r9VnikmQjkNA"
      },
      "source": [
        "import pandas as pd\n",
        "\n",
        "url_dados = 'https://github.com/alura-cursos/imersaodados3/blob/main/dados/dados_experimentos.zip?raw=true'\n",
        "\n",
        "dados = pd.read_csv(url_dados, compression ='zip')\n",
        "dados\n",
        "dados.shape\n",
        "dados['tratamento']\n",
        "dados['tratamento'].unique()\n",
        "dados['tempo'].unique()\n",
        "dados['dose'].unique()\n",
        "dados['droga'].unique()\n",
        "dados['g-0'].unique()\n",
        "dados['tratamento'].value_counts()\n",
        "dados['dose'].value_counts()\n",
        "dados['tratamento'].value_counts(normalize=True)\n",
        "dados['dose'].value_counts(normalize=True)\n",
        "dados['tratamento'].value_counts().plot.piel()\n",
        "dados['tempo'].value_counts().plot.piel()\n",
        "dados['tempo'].value_counts().plot.bar()\n",
        "dados.filtrados = dados[dados['g-0'] > 0]\n",
        "dados.filtrados.head()\n",
        "dados.head()\n",
        "dados.shape\n",
        "\n",
        "\n"
      ],
      "execution_count": null,
      "outputs": []
    }
  ]
}